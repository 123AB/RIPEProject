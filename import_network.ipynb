{
 "cells": [
  {
   "cell_type": "code",
   "execution_count": 261,
   "metadata": {},
   "outputs": [],
   "source": [
    "import networkx as nx\n",
    "import pandas as pd\n",
    "import matplotlib.pyplot as plt\n",
    "import numpy as np\n",
    "import seaborn as sns\n",
    "\n",
    "%matplotlib inline"
   ]
  },
  {
   "cell_type": "code",
   "execution_count": 5,
   "metadata": {},
   "outputs": [],
   "source": [
    "filelocation=\"data/\"\n",
    "filename=\"201603.as-rel-geo.txt\"\n",
    "\n",
    "filepath=filelocation+filename"
   ]
  },
  {
   "cell_type": "code",
   "execution_count": 200,
   "metadata": {},
   "outputs": [
    {
     "name": "stdout",
     "output_type": "stream",
     "text": [
      "   source  target\n",
      "0       2      34\n",
      "1       2    9122\n",
      "2       2   26216\n",
      "3       2   37628\n",
      "4       2   45433\n"
     ]
    }
   ],
   "source": [
    "edge_list = pd.read_csv(filepath, sep='|', usecols=[0,1], header=None, names=[\"source\", \"target\"])\n",
    "\n",
    "# edge_list.describe()\n",
    "# edge_list.head\n",
    "\n",
    "print(edge_list.iloc[:5])"
   ]
  },
  {
   "cell_type": "code",
   "execution_count": 201,
   "metadata": {},
   "outputs": [],
   "source": [
    "# test_list = edge_list.head(1000)\n",
    "# G = nx.from_pandas_edgelist(test_list)\n",
    "# nx.draw(G)"
   ]
  },
  {
   "cell_type": "code",
   "execution_count": 249,
   "metadata": {},
   "outputs": [
    {
     "name": "stdout",
     "output_type": "stream",
     "text": [
      "Number of nodes in graph: \n",
      "\t 13174\n",
      "Number of edges in graph: \n",
      "\t 310738\n"
     ]
    }
   ],
   "source": [
    "G = nx.from_pandas_edgelist(edge_list)\n",
    "\n",
    "graph_nodes = G.__len__()\n",
    "graph_edges = G.size()\n",
    "\n",
    "# Number of nodes\n",
    "print(\"Number of nodes in graph: \\n\\t\", graph_nodes)\n",
    "# Number of edges\n",
    "print(\"Number of edges in graph: \\n\\t\", graph_edges)"
   ]
  },
  {
   "cell_type": "code",
   "execution_count": 254,
   "metadata": {},
   "outputs": [
    {
     "data": {
      "image/png": "[encoded data removed]",
      "text/plain": [
       "<Figure size 432x288 with 1 Axes>"
      ]
     },
     "metadata": {
      "needs_background": "light"
     },
     "output_type": "display_data"
    }
   ],
   "source": [
    "degrees = list(dict(G.degree()).values())\n",
    "\n",
    "plt.title(\"Degree Histogram\")\n",
    "plt.ylabel(\"Count [Log]\")\n",
    "plt.xlabel(\"Degree\")\n",
    "plt.hist(degrees, density=True, log=True)\n",
    "plt.show()"
   ]
  },
  {
   "cell_type": "code",
   "execution_count": 204,
   "metadata": {},
   "outputs": [
    {
     "data": {
      "text/plain": [
       "[4056, 3733, 1707, 1465, 1364, 1250, 1242, 1215, 1191, 1184]"
      ]
     },
     "execution_count": 204,
     "metadata": {},
     "output_type": "execute_result"
    }
   ],
   "source": [
    "# Show 10 highest degrees\n",
    "sorted(degrees)[::-1][:10]"
   ]
  },
  {
   "cell_type": "code",
   "execution_count": 252,
   "metadata": {},
   "outputs": [
    {
     "name": "stdout",
     "output_type": "stream",
     "text": [
      "0.7078439070857121\n"
     ]
    }
   ],
   "source": [
    "# # Select where the degree is highest\n",
    "# # index_highest_degree = int(np.argwhere(degrees==np.max(degrees))[0])\n",
    "# name_highest_sourcedegree = edge_list['source'].value_counts()[:1].index[0]\n",
    "\n",
    "\n",
    "# # Show n highest out-degree nodes\n",
    "# node_sample_size = 500\n",
    "# test = [edge_list['source'].value_counts()[n:].index[0] for n in range(0,node_sample_size)]\n",
    "# # print(test)\n",
    "\n",
    "# # edge_list.loc[edge_list['source'] == name_highest_sourcedegree]\n",
    "# size_subgraph = edge_list.loc[edge_list['source'].isin(test)].shape\n",
    "\n",
    "# print(size_subgraph[0]/graph_edges)"
   ]
  },
  {
   "cell_type": "code",
   "execution_count": 269,
   "metadata": {},
   "outputs": [],
   "source": [
    "node_sample_sizes = [10, 50, 100, 500, 1000, 2500]\n",
    "frac_list = []\n",
    "\n",
    "for s in node_sample_sizes:\n",
    "    degree_loc = [edge_list['source'].value_counts()[n:].index[0] for n in range(0,s)]\n",
    "    size_subgraph = edge_list.loc[edge_list['source'].isin(degree_loc)].shape[0]\n",
    "    fraction = size_subgraph / graph_edges\n",
    "    frac_list.append(fraction)"
   ]
  },
  {
   "cell_type": "code",
   "execution_count": 270,
   "metadata": {},
   "outputs": [
    {
     "name": "stdout",
     "output_type": "stream",
     "text": [
      "[0.051651230296906075, 0.14880059728774722, 0.2464713037993422, 0.7078439070857121, 0.9569283447792031, 0.9941140124477856]\n"
     ]
    }
   ],
   "source": [
    "print(frac_list)"
   ]
  },
  {
   "cell_type": "code",
   "execution_count": 271,
   "metadata": {},
   "outputs": [
    {
     "data": {
      "image/png": "[encoded data removed]",
      "text/plain": [
       "<Figure size 432x288 with 1 Axes>"
      ]
     },
     "metadata": {
      "needs_background": "light"
     },
     "output_type": "display_data"
    }
   ],
   "source": [
    "df_frac = pd.DataFrame(list(zip(node_sample_sizes, frac_list)),columns=['sample_size','fraction'])\n",
    "ax = sns.lineplot(x=\"sample_size\", y=\"fraction\", data=df_frac)"
   ]
  },
  {
   "cell_type": "code",
   "execution_count": null,
   "metadata": {},
   "outputs": [],
   "source": []
  },
  {
   "cell_type": "code",
   "execution_count": null,
   "metadata": {},
   "outputs": [],
   "source": []
  }
 ],
 "metadata": {
  "kernelspec": {
   "display_name": "Python 3",
   "language": "python",
   "name": "python3"
  },
  "language_info": {
   "codemirror_mode": {
    "name": "ipython",
    "version": 3
   },
   "file_extension": ".py",
   "mimetype": "text/x-python",
   "name": "python",
   "nbconvert_exporter": "python",
   "pygments_lexer": "ipython3",
   "version": "3.7.3"
  }
 },
 "nbformat": 4,
 "nbformat_minor": 2
}
